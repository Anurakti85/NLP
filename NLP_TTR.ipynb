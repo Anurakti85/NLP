{
  "nbformat": 4,
  "nbformat_minor": 0,
  "metadata": {
    "colab": {
      "name": "NLP_TTR.ipynb",
      "provenance": []
    },
    "kernelspec": {
      "name": "python3",
      "display_name": "Python 3"
    }
  },
  "cells": [
    {
      "cell_type": "code",
      "metadata": {
        "id": "KoSYIjbBQtcA",
        "colab_type": "code",
        "colab": {
          "base_uri": "https://localhost:8080/",
          "height": 52
        },
        "outputId": "9286da2a-f516-41ca-e76a-4bed1565ef9a"
      },
      "source": [
        "#TTR (Type Token Ratio) Example\n",
        "#importing required libraries\n",
        "import nltk\n",
        "nltk.download((\"stopwords\"))\n",
        "from nltk.probability import FreqDist\n",
        "from nltk.corpus import stopwords"
      ],
      "execution_count": null,
      "outputs": [
        {
          "output_type": "stream",
          "text": [
            "[nltk_data] Downloading package stopwords to /root/nltk_data...\n",
            "[nltk_data]   Unzipping corpora/stopwords.zip.\n"
          ],
          "name": "stdout"
        }
      ]
    },
    {
      "cell_type": "code",
      "metadata": {
        "id": "Cb5BT-LxRKzG",
        "colab_type": "code",
        "colab": {}
      },
      "source": [
        "#Stopwords removal\n",
        "stop_words = set(stopwords.words('english'))\n"
      ],
      "execution_count": null,
      "outputs": []
    },
    {
      "cell_type": "code",
      "metadata": {
        "id": "s2_1R8T7RPmA",
        "colab_type": "code",
        "colab": {
          "base_uri": "https://localhost:8080/",
          "height": 52
        },
        "outputId": "fda7c2ac-4d66-4397-fefc-751f82d8ae07"
      },
      "source": [
        "#Reading the Corpus\n",
        "nltk.download('gutenberg')\n",
        "words_bryant=nltk.Text(nltk.corpus.gutenberg.words('bryant-stories.txt'))\n",
        "words_emma=nltk.Text(nltk.corpus.gutenberg.words('austen-emma.txt'))"
      ],
      "execution_count": null,
      "outputs": [
        {
          "output_type": "stream",
          "text": [
            "[nltk_data] Downloading package gutenberg to /root/nltk_data...\n",
            "[nltk_data]   Package gutenberg is already up-to-date!\n"
          ],
          "name": "stdout"
        }
      ]
    },
    {
      "cell_type": "code",
      "metadata": {
        "id": "hdthiLpMSLcd",
        "colab_type": "code",
        "colab": {
          "base_uri": "https://localhost:8080/",
          "height": 52
        },
        "outputId": "9e1041ad-1f11-4c4f-ecda-39612b969e6f"
      },
      "source": [
        "#printing unique words\n",
        "print(\"UNIQUE WORDS IN BRYANT-STORIES CORPUS IS= \",len(set(words_bryant)))\n",
        "print(\"UNIQUE WORDS IN AUSTEN-EMMA CORPUS IS= \",len(set(words_emma)))"
      ],
      "execution_count": null,
      "outputs": [
        {
          "output_type": "stream",
          "text": [
            "UNIQUE WORDS IN BRYANT-STORIES CORPUS IS=  2796\n",
            "UNIQUE WORDS IN AUSTEN-EMMA CORPUS IS=  3274\n"
          ],
          "name": "stdout"
        }
      ]
    },
    {
      "cell_type": "code",
      "metadata": {
        "id": "feQu4-7oRUCi",
        "colab_type": "code",
        "colab": {}
      },
      "source": [
        "#changing all corpus to small letters\n",
        "words_bryant=[word.lower() for word in words_bryant if word.isalpha()]\n",
        "words_emma=[word.lower() for word in words_emma if word.isalpha()]\n",
        "\n",
        "#removing stop words\n",
        "words_bryant=[word.lower() for word in words_bryant if word not in stop_words][:15000]\n",
        "words_emma=[word.lower() for word in words_emma if word not in stop_words][:15000]"
      ],
      "execution_count": null,
      "outputs": []
    },
    {
      "cell_type": "code",
      "metadata": {
        "id": "_3gxKwIJZUoI",
        "colab_type": "code",
        "colab": {}
      },
      "source": [
        "#calculating TTR of both the corpuses\n",
        "ttr_bryant=len(set(words_bryant))/len(words_bryant)\n",
        "ttr_emma=len(set(words_emma))/len(words_emma)"
      ],
      "execution_count": null,
      "outputs": []
    },
    {
      "cell_type": "code",
      "metadata": {
        "id": "LgBmnwCLZkJa",
        "colab_type": "code",
        "colab": {}
      },
      "source": [
        "ttr_emma=len(set(words_emma))/len(words_emma)"
      ],
      "execution_count": null,
      "outputs": []
    },
    {
      "cell_type": "code",
      "metadata": {
        "id": "eEyhJATiZu4r",
        "colab_type": "code",
        "colab": {
          "base_uri": "https://localhost:8080/",
          "height": 70
        },
        "outputId": "abf08491-e483-42bb-a5e7-3511516af33c"
      },
      "source": [
        "print(\"Number of Tokens in Bryant-Stories is= {}\\nBryant-Stories Vocabulary is= {}\\nType Token Ratio of Bryant-Stories is= {} \".format(len(words_bryant),len(set(words_bryant)),ttr_bryant))"
      ],
      "execution_count": null,
      "outputs": [
        {
          "output_type": "stream",
          "text": [
            "Number of Tokens in Bryant-Stories is= 15000\n",
            "Bryant-Stories Vocabulary is= 2796\n",
            "Type Token Ratio of Bryant-Stories is= 0.1864 \n"
          ],
          "name": "stdout"
        }
      ]
    },
    {
      "cell_type": "code",
      "metadata": {
        "id": "rvgP0epIa8zA",
        "colab_type": "code",
        "colab": {
          "base_uri": "https://localhost:8080/",
          "height": 70
        },
        "outputId": "c4752a3c-8154-4226-ec27-49e412a67e90"
      },
      "source": [
        "print(\"Number of Tokens in Austen-emma is= {}\\nAusten-emma Vocabulary is= {}\\nType Token Ratio of Austen-emma is= {} \".format(len(words_emma),len(set(words_emma)),ttr_emma))"
      ],
      "execution_count": null,
      "outputs": [
        {
          "output_type": "stream",
          "text": [
            "Number of Tokens in Austen-emma is= 15000\n",
            "Austen-emma Vocabulary is= 3274\n",
            "Type Token Ratio of Austen-emma is= 0.21826666666666666 \n"
          ],
          "name": "stdout"
        }
      ]
    },
    {
      "cell_type": "code",
      "metadata": {
        "id": "8hBaPd_YcTXa",
        "colab_type": "code",
        "colab": {}
      },
      "source": [
        ""
      ],
      "execution_count": null,
      "outputs": []
    }
  ]
}